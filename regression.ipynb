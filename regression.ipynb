{
  "nbformat": 4,
  "nbformat_minor": 0,
  "metadata": {
    "colab": {
      "name": "regression.ipynb",
      "provenance": [],
      "collapsed_sections": [],
      "authorship_tag": "ABX9TyPwnHyjLKnrDLrvsv/93vEO",
      "include_colab_link": true
    },
    "kernelspec": {
      "name": "python3",
      "display_name": "Python 3"
    },
    "language_info": {
      "name": "python"
    }
  },
  "cells": [
    {
      "cell_type": "markdown",
      "metadata": {
        "id": "view-in-github",
        "colab_type": "text"
      },
      "source": [
        "<a href=\"https://colab.research.google.com/github/Talieh-m/Data_Science/blob/main/regression.ipynb\" target=\"_parent\"><img src=\"https://colab.research.google.com/assets/colab-badge.svg\" alt=\"Open In Colab\"/></a>"
      ]
    },
    {
      "cell_type": "markdown",
      "metadata": {
        "id": "CK3AUVsYCm-b"
      },
      "source": [
        "# **Import Librairies**"
      ]
    },
    {
      "cell_type": "code",
      "metadata": {
        "id": "6c-f47hzCqU_"
      },
      "source": [
        "import numpy as np\n",
        "import pandas as pd\n",
        "import seaborn as sns\n",
        "sns.set(context=\"notebook\", palette=\"coolwarm\", style = 'darkgrid' ,font_scale = 1.5, color_codes=True)\n",
        "import matplotlib.pyplot as plt\n",
        "import os\n",
        "import statsmodels.stats.api as sms\n",
        "import statsmodels.api as sm\n",
        "from statsmodels.stats import diagnostic as diag\n",
        "from statsmodels.compat import lzip\n",
        "from sklearn.linear_model import LinearRegression\n",
        "from sklearn.ensemble import RandomForestRegressor\n",
        "from sklearn.model_selection import train_test_split\n",
        "from sklearn.preprocessing import StandardScaler\n",
        "from sklearn.metrics import r2_score\n"
      ],
      "execution_count": null,
      "outputs": []
    },
    {
      "cell_type": "code",
      "metadata": {
        "colab": {
          "base_uri": "https://localhost:8080/",
          "height": 206
        },
        "id": "b85HPVjSDqjS",
        "outputId": "fdf05162-efe3-484f-f538-cd7459888512"
      },
      "source": [
        "df= pd.read_csv('Advertising.csv')\n",
        "df.head()"
      ],
      "execution_count": null,
      "outputs": [
        {
          "output_type": "execute_result",
          "data": {
            "text/html": [
              "<div>\n",
              "<style scoped>\n",
              "    .dataframe tbody tr th:only-of-type {\n",
              "        vertical-align: middle;\n",
              "    }\n",
              "\n",
              "    .dataframe tbody tr th {\n",
              "        vertical-align: top;\n",
              "    }\n",
              "\n",
              "    .dataframe thead th {\n",
              "        text-align: right;\n",
              "    }\n",
              "</style>\n",
              "<table border=\"1\" class=\"dataframe\">\n",
              "  <thead>\n",
              "    <tr style=\"text-align: right;\">\n",
              "      <th></th>\n",
              "      <th>Unnamed: 0</th>\n",
              "      <th>TV</th>\n",
              "      <th>Radio</th>\n",
              "      <th>Newspaper</th>\n",
              "      <th>Sales</th>\n",
              "    </tr>\n",
              "  </thead>\n",
              "  <tbody>\n",
              "    <tr>\n",
              "      <th>0</th>\n",
              "      <td>1</td>\n",
              "      <td>230.1</td>\n",
              "      <td>37.8</td>\n",
              "      <td>69.2</td>\n",
              "      <td>22.1</td>\n",
              "    </tr>\n",
              "    <tr>\n",
              "      <th>1</th>\n",
              "      <td>2</td>\n",
              "      <td>44.5</td>\n",
              "      <td>39.3</td>\n",
              "      <td>45.1</td>\n",
              "      <td>10.4</td>\n",
              "    </tr>\n",
              "    <tr>\n",
              "      <th>2</th>\n",
              "      <td>3</td>\n",
              "      <td>17.2</td>\n",
              "      <td>45.9</td>\n",
              "      <td>69.3</td>\n",
              "      <td>9.3</td>\n",
              "    </tr>\n",
              "    <tr>\n",
              "      <th>3</th>\n",
              "      <td>4</td>\n",
              "      <td>151.5</td>\n",
              "      <td>41.3</td>\n",
              "      <td>58.5</td>\n",
              "      <td>18.5</td>\n",
              "    </tr>\n",
              "    <tr>\n",
              "      <th>4</th>\n",
              "      <td>5</td>\n",
              "      <td>180.8</td>\n",
              "      <td>10.8</td>\n",
              "      <td>58.4</td>\n",
              "      <td>12.9</td>\n",
              "    </tr>\n",
              "  </tbody>\n",
              "</table>\n",
              "</div>"
            ],
            "text/plain": [
              "   Unnamed: 0     TV  Radio  Newspaper  Sales\n",
              "0           1  230.1   37.8       69.2   22.1\n",
              "1           2   44.5   39.3       45.1   10.4\n",
              "2           3   17.2   45.9       69.3    9.3\n",
              "3           4  151.5   41.3       58.5   18.5\n",
              "4           5  180.8   10.8       58.4   12.9"
            ]
          },
          "metadata": {},
          "execution_count": 67
        }
      ]
    },
    {
      "cell_type": "code",
      "metadata": {
        "id": "sXaafB8JFj4b"
      },
      "source": [
        "df.drop(columns= ['Unnamed: 0'], axis=1, inplace=True)"
      ],
      "execution_count": null,
      "outputs": []
    },
    {
      "cell_type": "code",
      "metadata": {
        "colab": {
          "base_uri": "https://localhost:8080/"
        },
        "id": "T5wfc-J2GUgP",
        "outputId": "d7677706-92d2-4532-e1cf-02b4df7de991"
      },
      "source": [
        "df.info()"
      ],
      "execution_count": null,
      "outputs": [
        {
          "output_type": "stream",
          "name": "stdout",
          "text": [
            "<class 'pandas.core.frame.DataFrame'>\n",
            "RangeIndex: 200 entries, 0 to 199\n",
            "Data columns (total 4 columns):\n",
            " #   Column     Non-Null Count  Dtype  \n",
            "---  ------     --------------  -----  \n",
            " 0   TV         200 non-null    float64\n",
            " 1   Radio      200 non-null    float64\n",
            " 2   Newspaper  200 non-null    float64\n",
            " 3   Sales      200 non-null    float64\n",
            "dtypes: float64(4)\n",
            "memory usage: 6.4 KB\n"
          ]
        }
      ]
    },
    {
      "cell_type": "code",
      "metadata": {
        "colab": {
          "base_uri": "https://localhost:8080/",
          "height": 300
        },
        "id": "t7WVAEaOGuzd",
        "outputId": "c8ccf182-9619-4c4e-ffd5-0840e72b128f"
      },
      "source": [
        "np.round(df.describe(), decimals=2)"
      ],
      "execution_count": null,
      "outputs": [
        {
          "output_type": "execute_result",
          "data": {
            "text/html": [
              "<div>\n",
              "<style scoped>\n",
              "    .dataframe tbody tr th:only-of-type {\n",
              "        vertical-align: middle;\n",
              "    }\n",
              "\n",
              "    .dataframe tbody tr th {\n",
              "        vertical-align: top;\n",
              "    }\n",
              "\n",
              "    .dataframe thead th {\n",
              "        text-align: right;\n",
              "    }\n",
              "</style>\n",
              "<table border=\"1\" class=\"dataframe\">\n",
              "  <thead>\n",
              "    <tr style=\"text-align: right;\">\n",
              "      <th></th>\n",
              "      <th>TV</th>\n",
              "      <th>Radio</th>\n",
              "      <th>Newspaper</th>\n",
              "      <th>Sales</th>\n",
              "    </tr>\n",
              "  </thead>\n",
              "  <tbody>\n",
              "    <tr>\n",
              "      <th>count</th>\n",
              "      <td>200.00</td>\n",
              "      <td>200.00</td>\n",
              "      <td>200.00</td>\n",
              "      <td>200.00</td>\n",
              "    </tr>\n",
              "    <tr>\n",
              "      <th>mean</th>\n",
              "      <td>147.04</td>\n",
              "      <td>23.26</td>\n",
              "      <td>30.55</td>\n",
              "      <td>14.02</td>\n",
              "    </tr>\n",
              "    <tr>\n",
              "      <th>std</th>\n",
              "      <td>85.85</td>\n",
              "      <td>14.85</td>\n",
              "      <td>21.78</td>\n",
              "      <td>5.22</td>\n",
              "    </tr>\n",
              "    <tr>\n",
              "      <th>min</th>\n",
              "      <td>0.70</td>\n",
              "      <td>0.00</td>\n",
              "      <td>0.30</td>\n",
              "      <td>1.60</td>\n",
              "    </tr>\n",
              "    <tr>\n",
              "      <th>25%</th>\n",
              "      <td>74.38</td>\n",
              "      <td>9.98</td>\n",
              "      <td>12.75</td>\n",
              "      <td>10.38</td>\n",
              "    </tr>\n",
              "    <tr>\n",
              "      <th>50%</th>\n",
              "      <td>149.75</td>\n",
              "      <td>22.90</td>\n",
              "      <td>25.75</td>\n",
              "      <td>12.90</td>\n",
              "    </tr>\n",
              "    <tr>\n",
              "      <th>75%</th>\n",
              "      <td>218.82</td>\n",
              "      <td>36.52</td>\n",
              "      <td>45.10</td>\n",
              "      <td>17.40</td>\n",
              "    </tr>\n",
              "    <tr>\n",
              "      <th>max</th>\n",
              "      <td>296.40</td>\n",
              "      <td>49.60</td>\n",
              "      <td>114.00</td>\n",
              "      <td>27.00</td>\n",
              "    </tr>\n",
              "  </tbody>\n",
              "</table>\n",
              "</div>"
            ],
            "text/plain": [
              "           TV   Radio  Newspaper   Sales\n",
              "count  200.00  200.00     200.00  200.00\n",
              "mean   147.04   23.26      30.55   14.02\n",
              "std     85.85   14.85      21.78    5.22\n",
              "min      0.70    0.00       0.30    1.60\n",
              "25%     74.38    9.98      12.75   10.38\n",
              "50%    149.75   22.90      25.75   12.90\n",
              "75%    218.82   36.52      45.10   17.40\n",
              "max    296.40   49.60     114.00   27.00"
            ]
          },
          "metadata": {},
          "execution_count": 70
        }
      ]
    },
    {
      "cell_type": "markdown",
      "metadata": {
        "id": "7Cyzn8z1amYx"
      },
      "source": [
        "# **1. First Assumption: Linearity**"
      ]
    },
    {
      "cell_type": "code",
      "metadata": {
        "colab": {
          "base_uri": "https://localhost:8080/",
          "height": 495
        },
        "id": "PDGpldxDJO2B",
        "outputId": "367d49e0-9f6e-4236-b5b5-7586a0f7b3e2"
      },
      "source": [
        "sns.pairplot(df, x_vars=['TV','Radio','Newspaper'], y_vars=['Sales'], size=6, aspect= 0.7)"
      ],
      "execution_count": null,
      "outputs": [
        {
          "output_type": "stream",
          "name": "stderr",
          "text": [
            "/usr/local/lib/python3.7/dist-packages/seaborn/axisgrid.py:2076: UserWarning: The `size` parameter has been renamed to `height`; please update your code.\n",
            "  warnings.warn(msg, UserWarning)\n"
          ]
        },
        {
          "output_type": "execute_result",
          "data": {
            "text/plain": [
              "<seaborn.axisgrid.PairGrid at 0x7fd53a069690>"
            ]
          },
          "metadata": {},
          "execution_count": 71
        },
        {
          "output_type": "display_data",
          "data": {
            "image/png": "[encoded data removed]",
            "text/plain": [
              "<Figure size 907.2x432 with 3 Axes>"
            ]
          },
          "metadata": {}
        }
      ]
    },
    {
      "cell_type": "code",
      "metadata": {
        "colab": {
          "base_uri": "https://localhost:8080/",
          "height": 207
        },
        "id": "O2XjSf1eLm5h",
        "outputId": "d052eb1d-afed-4a3b-8b6e-80551ae77f13"
      },
      "source": [
        "#Newspaper doesnot have a linear relationship with sales. Therefore, some transformation is used to train the models\n",
        "df['New_2']=df['Newspaper']**.25\n",
        "df[\"new_log\"]= np.log(df['Newspaper'])\n",
        "df[\"transform\"]= np.log(df['Newspaper'])+df['Newspaper']\n",
        "df.head()\n",
        "sns.pairplot(df, x_vars=['New_2','new_log','transform'],y_vars=['Sales'])"
      ],
      "execution_count": null,
      "outputs": [
        {
          "output_type": "execute_result",
          "data": {
            "text/plain": [
              "<seaborn.axisgrid.PairGrid at 0x7fd539d70510>"
            ]
          },
          "metadata": {},
          "execution_count": 72
        },
        {
          "output_type": "display_data",
          "data": {
            "image/png": "[encoded data removed]",
            "text/plain": [
              "<Figure size 540x180 with 3 Axes>"
            ]
          },
          "metadata": {}
        }
      ]
    },
    {
      "cell_type": "code",
      "metadata": {
        "id": "8PgJGafvTy5A"
      },
      "source": [
        "df.drop(columns= ['Newspaper','New_2','new_log','transform'], axis=1, inplace=True)"
      ],
      "execution_count": null,
      "outputs": []
    },
    {
      "cell_type": "markdown",
      "metadata": {
        "id": "rXv1MvwXbStn"
      },
      "source": [
        "# **Splitting the Dataset**"
      ]
    },
    {
      "cell_type": "code",
      "metadata": {
        "id": "Iu5F4pOObXaI"
      },
      "source": [
        "x=df.iloc[:,:-1].values\n",
        "y=df.iloc[:,-1].values\n",
        "x_train, x_test, y_train, y_test=train_test_split(x,y,test_size=0.2, random_state=0)"
      ],
      "execution_count": null,
      "outputs": []
    },
    {
      "cell_type": "markdown",
      "metadata": {
        "id": "EZOS1UnRclTn"
      },
      "source": [
        "# **Scaling the independant variables**"
      ]
    },
    {
      "cell_type": "code",
      "metadata": {
        "id": "4V9cJ-lEfcFS"
      },
      "source": [
        "sc_x= StandardScaler()\n",
        "sc_y=StandardScaler()\n",
        "x_train= sc_x.fit_transform(x_train)\n",
        "x_test=sc_x.fit_transform(x_test)"
      ],
      "execution_count": null,
      "outputs": []
    },
    {
      "cell_type": "markdown",
      "metadata": {
        "id": "RXJyH_QEn9QE"
      },
      "source": [
        "# **Trainig the Model**"
      ]
    },
    {
      "cell_type": "code",
      "metadata": {
        "colab": {
          "base_uri": "https://localhost:8080/"
        },
        "id": "yC4qHxxtoBCL",
        "outputId": "a343739d-d545-4812-a782-fb8cf27b0a9f"
      },
      "source": [
        "regressor=LinearRegression()\n",
        "regressor.fit(x_train,y_train)"
      ],
      "execution_count": null,
      "outputs": [
        {
          "output_type": "execute_result",
          "data": {
            "text/plain": [
              "LinearRegression(copy_X=True, fit_intercept=True, n_jobs=None, normalize=False)"
            ]
          },
          "metadata": {},
          "execution_count": 76
        }
      ]
    },
    {
      "cell_type": "code",
      "metadata": {
        "colab": {
          "base_uri": "https://localhost:8080/"
        },
        "id": "gsNuPFnVp3od",
        "outputId": "8efc7e1c-eb45-4c5d-cda1-7ea09ee0181c"
      },
      "source": [
        "y_pred= np.round(regressor.predict(x_test), decimals=3)\n",
        "print(np.concatenate((y_pred.reshape(len(y_pred),1), y_test.reshape(len(y_test),1)),1))\n"
      ],
      "execution_count": null,
      "outputs": [
        {
          "output_type": "stream",
          "name": "stdout",
          "text": [
            "[[11.051 11.3  ]\n",
            " [ 8.557  8.4  ]\n",
            " [ 8.166  8.7  ]\n",
            " [24.596 25.4  ]\n",
            " [12.995 11.7  ]\n",
            " [ 7.714  8.7  ]\n",
            " [13.792  7.2  ]\n",
            " [15.897 13.2  ]\n",
            " [11.848  9.2  ]\n",
            " [17.08  16.6  ]\n",
            " [23.454 24.2  ]\n",
            " [10.189 10.6  ]\n",
            " [11.435 10.5  ]\n",
            " [16.247 15.6  ]\n",
            " [12.524 11.8  ]\n",
            " [13.068 13.2  ]\n",
            " [19.375 17.4  ]\n",
            " [11.703  1.6  ]\n",
            " [16.715 14.7  ]\n",
            " [18.001 17.   ]\n",
            " [24.637 26.2  ]\n",
            " [10.605 10.3  ]\n",
            " [15.966 14.9  ]\n",
            " [13.336 12.9  ]\n",
            " [ 6.904  8.1  ]\n",
            " [16.01  15.2  ]\n",
            " [13.211 12.6  ]\n",
            " [21.492 22.6  ]\n",
            " [14.286 11.6  ]\n",
            " [10.138  8.5  ]\n",
            " [14.015 12.5  ]\n",
            " [22.038 23.7  ]\n",
            " [18.876 16.1  ]\n",
            " [21.731 21.8  ]\n",
            " [ 7.787  5.6  ]\n",
            " [ 7.309  6.7  ]\n",
            " [ 9.043  9.7  ]\n",
            " [14.012 12.9  ]\n",
            " [15.525 13.6  ]\n",
            " [ 7.373  7.2  ]]\n"
          ]
        }
      ]
    },
    {
      "cell_type": "markdown",
      "metadata": {
        "id": "80o5rsxoweGG"
      },
      "source": [
        "## **2.Mean of Residuals**: it should be close to zero"
      ]
    },
    {
      "cell_type": "code",
      "metadata": {
        "colab": {
          "base_uri": "https://localhost:8080/"
        },
        "id": "j49dbT4xvgAA",
        "outputId": "f5fa62ad-f853-430e-e7e5-fd9f792f4eda"
      },
      "source": [
        "Residuals= y_test- y_pred\n",
        "print(np.round(np.mean(Residuals), decimals=3))"
      ],
      "execution_count": null,
      "outputs": [
        {
          "output_type": "stream",
          "name": "stdout",
          "text": [
            "-0.975\n"
          ]
        }
      ]
    },
    {
      "cell_type": "markdown",
      "metadata": {
        "id": "d32NGAzjyvmY"
      },
      "source": [
        "# **3. Check for Homoscedasticity**"
      ]
    },
    {
      "cell_type": "code",
      "metadata": {
        "colab": {
          "base_uri": "https://localhost:8080/",
          "height": 425
        },
        "id": "5vk5HVzAydji",
        "outputId": "874877d2-f494-43ac-e9d1-8aa2c2813127"
      },
      "source": [
        "sns.scatterplot( y_pred,Residuals, color= 'violet')\n",
        "plt.title('predicted Sales vs Residuals')\n",
        "plt.xlabel('y_pred')\n",
        "plt.ylabel('Residuals')\n",
        "plt.xlim(0,26)\n",
        "plt.ylim(-10,10)\n",
        "sns.lineplot([0,26],[0,0],color='pink')"
      ],
      "execution_count": null,
      "outputs": [
        {
          "output_type": "stream",
          "name": "stderr",
          "text": [
            "/usr/local/lib/python3.7/dist-packages/seaborn/_decorators.py:43: FutureWarning: Pass the following variables as keyword args: x, y. From version 0.12, the only valid positional argument will be `data`, and passing other arguments without an explicit keyword will result in an error or misinterpretation.\n",
            "  FutureWarning\n",
            "/usr/local/lib/python3.7/dist-packages/seaborn/_decorators.py:43: FutureWarning: Pass the following variables as keyword args: x, y. From version 0.12, the only valid positional argument will be `data`, and passing other arguments without an explicit keyword will result in an error or misinterpretation.\n",
            "  FutureWarning\n"
          ]
        },
        {
          "output_type": "execute_result",
          "data": {
            "text/plain": [
              "<matplotlib.axes._subplots.AxesSubplot at 0x7fd539b6e3d0>"
            ]
          },
          "metadata": {},
          "execution_count": 79
        },
        {
          "output_type": "display_data",
          "data": {
            "image/png": "[encoded data removed]",
            "text/plain": [
              "<Figure size 432x288 with 1 Axes>"
            ]
          },
          "metadata": {}
        }
      ]
    },
    {
      "cell_type": "markdown",
      "metadata": {
        "id": "NMTqpclE3OfH"
      },
      "source": [
        "# **GoldFeld Quandt Test**"
      ]
    },
    {
      "cell_type": "markdown",
      "metadata": {
        "id": "HEDLvjGLBB1U"
      },
      "source": [
        "if p-value is greater than 0.05 the null hypothesis \n",
        "is accepted. null: there is homoscedasticity "
      ]
    },
    {
      "cell_type": "code",
      "metadata": {
        "colab": {
          "base_uri": "https://localhost:8080/"
        },
        "id": "S_gKwka01tMp",
        "outputId": "96f89d37-626a-47dc-992a-962225b0a830"
      },
      "source": [
        "name = ['F statistic', 'p-value']\n",
        "test = sms.het_goldfeldquandt(Residuals, x_test)\n",
        "lzip(name, test)"
      ],
      "execution_count": null,
      "outputs": [
        {
          "output_type": "execute_result",
          "data": {
            "text/plain": [
              "[('F statistic', 0.291558368458169), ('p-value', 0.9938651201014251)]"
            ]
          },
          "metadata": {},
          "execution_count": 80
        }
      ]
    },
    {
      "cell_type": "markdown",
      "metadata": {
        "id": "ehUKAmjQTFYE"
      },
      "source": [
        "# **4.Normlity of Residuals**"
      ]
    },
    {
      "cell_type": "code",
      "metadata": {
        "colab": {
          "base_uri": "https://localhost:8080/",
          "height": 351
        },
        "id": "6BDXttvj-jwo",
        "outputId": "1d6d6a9c-2d54-4264-e3dc-f532448bfc5a"
      },
      "source": [
        "plt.hist(Residuals)"
      ],
      "execution_count": null,
      "outputs": [
        {
          "output_type": "execute_result",
          "data": {
            "text/plain": [
              "(array([ 1.,  0.,  1.,  0.,  0.,  0.,  8.,  9., 12.,  9.]),\n",
              " array([-10.103 ,  -8.9265,  -7.75  ,  -6.5735,  -5.397 ,  -4.2205,\n",
              "         -3.044 ,  -1.8675,  -0.691 ,   0.4855,   1.662 ]),\n",
              " <a list of 10 Patch objects>)"
            ]
          },
          "metadata": {},
          "execution_count": 81
        },
        {
          "output_type": "display_data",
          "data": {
            "image/png": "[encoded data removed]",
            "text/plain": [
              "<Figure size 432x288 with 1 Axes>"
            ]
          },
          "metadata": {}
        }
      ]
    },
    {
      "cell_type": "markdown",
      "metadata": {
        "id": "r4k-R3KOD182"
      },
      "source": [
        "# **5. Autocorrelation**"
      ]
    },
    {
      "cell_type": "code",
      "metadata": {
        "colab": {
          "base_uri": "https://localhost:8080/",
          "height": 296
        },
        "id": "bcmRdzogTWGX",
        "outputId": "3bb707bd-12eb-4288-b1ce-4208217095f7"
      },
      "source": [
        "sm.graphics.tsa.plot_acf(Residuals, lags=39)\n",
        "plt.show()"
      ],
      "execution_count": null,
      "outputs": [
        {
          "output_type": "display_data",
          "data": {
            "image/png": "[encoded data removed]",
            "text/plain": [
              "<Figure size 432x288 with 1 Axes>"
            ]
          },
          "metadata": {}
        }
      ]
    },
    {
      "cell_type": "code",
      "metadata": {
        "colab": {
          "base_uri": "https://localhost:8080/",
          "height": 351
        },
        "id": "SLyPu7JYUUo6",
        "outputId": "6bf818b6-035e-4b49-c5a3-ae849ff73ca9"
      },
      "source": [
        "# partial autocorrelation\n",
        "sm.graphics.tsa.plot_pacf(Residuals, lags=39)\n",
        "plt.show()"
      ],
      "execution_count": null,
      "outputs": [
        {
          "output_type": "stream",
          "name": "stderr",
          "text": [
            "/usr/local/lib/python3.7/dist-packages/statsmodels/regression/linear_model.py:1358: RuntimeWarning: invalid value encountered in sqrt\n",
            "  return rho, np.sqrt(sigmasq)\n"
          ]
        },
        {
          "output_type": "display_data",
          "data": {
            "image/png": "[encoded data removed]",
            "text/plain": [
              "<Figure size 432x288 with 1 Axes>"
            ]
          },
          "metadata": {}
        }
      ]
    },
    {
      "cell_type": "markdown",
      "metadata": {
        "id": "k_JgbeFSVYLS"
      },
      "source": [
        "There spots outside the blue area which is the sign of autocorrelation"
      ]
    },
    {
      "cell_type": "markdown",
      "metadata": {
        "id": "59Rfybk2Vfwi"
      },
      "source": [
        "# **6. No perfect multicollinearity¶**"
      ]
    },
    {
      "cell_type": "code",
      "metadata": {
        "colab": {
          "base_uri": "https://localhost:8080/",
          "height": 331
        },
        "id": "33WMc-ETVigH",
        "outputId": "046616df-5507-4b3a-fd19-623a1a942452"
      },
      "source": [
        "df.drop(columns= ['Sales'], axis=1, inplace=True)\n",
        "plt.figure(figsize=(5,5))  # on this line I just set the size of figure to 12 by 10.\n",
        "sns.heatmap(df.corr(), annot=True,cmap=\"YlGnBu\",square=True)"
      ],
      "execution_count": null,
      "outputs": [
        {
          "output_type": "execute_result",
          "data": {
            "text/plain": [
              "<matplotlib.axes._subplots.AxesSubplot at 0x7fd539a1b2d0>"
            ]
          },
          "metadata": {},
          "execution_count": 84
        },
        {
          "output_type": "display_data",
          "data": {
            "image/png": "[encoded data removed]",
            "text/plain": [
              "<Figure size 360x360 with 2 Axes>"
            ]
          },
          "metadata": {}
        }
      ]
    },
    {
      "cell_type": "markdown",
      "metadata": {
        "id": "hLxVveuyDjBh"
      },
      "source": [
        "As can be seen most of the presumptions are not satisfied so linear regression does give us a reliable model. Therefore, another model is used."
      ]
    },
    {
      "cell_type": "markdown",
      "metadata": {
        "id": "fkQSJaNUM5bi"
      },
      "source": [
        "# **RandomForest Regression**"
      ]
    },
    {
      "cell_type": "code",
      "metadata": {
        "colab": {
          "base_uri": "https://localhost:8080/"
        },
        "id": "QgLybAZTD9wZ",
        "outputId": "d595ec31-8302-4983-d491-2fa25ad78996"
      },
      "source": [
        "regressor_f= RandomForestRegressor()\n",
        "regressor_f.fit(x_train, y_train)\n",
        "y_pred_f= regressor_f.predict(x_test)\n",
        "print(np.concatenate((y_pred.reshape(len(y_pred),1), y_test.reshape(len(y_test),1)),1))\n",
        "print(np.round(r2_score(y_test, y_pred_f), decimals= 3))\n"
      ],
      "execution_count": null,
      "outputs": [
        {
          "output_type": "stream",
          "name": "stdout",
          "text": [
            "[[11.051 11.3  ]\n",
            " [ 8.557  8.4  ]\n",
            " [ 8.166  8.7  ]\n",
            " [24.596 25.4  ]\n",
            " [12.995 11.7  ]\n",
            " [ 7.714  8.7  ]\n",
            " [13.792  7.2  ]\n",
            " [15.897 13.2  ]\n",
            " [11.848  9.2  ]\n",
            " [17.08  16.6  ]\n",
            " [23.454 24.2  ]\n",
            " [10.189 10.6  ]\n",
            " [11.435 10.5  ]\n",
            " [16.247 15.6  ]\n",
            " [12.524 11.8  ]\n",
            " [13.068 13.2  ]\n",
            " [19.375 17.4  ]\n",
            " [11.703  1.6  ]\n",
            " [16.715 14.7  ]\n",
            " [18.001 17.   ]\n",
            " [24.637 26.2  ]\n",
            " [10.605 10.3  ]\n",
            " [15.966 14.9  ]\n",
            " [13.336 12.9  ]\n",
            " [ 6.904  8.1  ]\n",
            " [16.01  15.2  ]\n",
            " [13.211 12.6  ]\n",
            " [21.492 22.6  ]\n",
            " [14.286 11.6  ]\n",
            " [10.138  8.5  ]\n",
            " [14.015 12.5  ]\n",
            " [22.038 23.7  ]\n",
            " [18.876 16.1  ]\n",
            " [21.731 21.8  ]\n",
            " [ 7.787  5.6  ]\n",
            " [ 7.309  6.7  ]\n",
            " [ 9.043  9.7  ]\n",
            " [14.012 12.9  ]\n",
            " [15.525 13.6  ]\n",
            " [ 7.373  7.2  ]]\n",
            "0.893\n"
          ]
        }
      ]
    },
    {
      "cell_type": "markdown",
      "metadata": {
        "id": "B9Ci0RUnNAFe"
      },
      "source": [
        "# **Support Vector Regression**"
      ]
    },
    {
      "cell_type": "code",
      "metadata": {
        "colab": {
          "base_uri": "https://localhost:8080/"
        },
        "id": "qnhUX3qdNIRo",
        "outputId": "ef410916-18aa-42ec-fb83-e58909e93637"
      },
      "source": [
        "from sklearn.svm import SVR\n",
        "regressor_svr= SVR()\n",
        "regressor_svr.fit(x_train, y_train)\n",
        "y_pred_svr= regressor_svr.predict(x_test)\n",
        "print(np.concatenate((np.round(y_pred_svr,decimals=2).reshape(len(y_pred_svr),1), y_test.reshape(len(y_test),1)),1))\n",
        "print(np.round(r2_score(y_test,y_pred_svr), decimals=3))"
      ],
      "execution_count": null,
      "outputs": [
        {
          "output_type": "stream",
          "name": "stdout",
          "text": [
            "[[12.   11.3 ]\n",
            " [ 9.9   8.4 ]\n",
            " [ 9.89  8.7 ]\n",
            " [22.37 25.4 ]\n",
            " [12.64 11.7 ]\n",
            " [ 9.33  8.7 ]\n",
            " [11.3   7.2 ]\n",
            " [13.65 13.2 ]\n",
            " [10.46  9.2 ]\n",
            " [16.99 16.6 ]\n",
            " [23.03 24.2 ]\n",
            " [11.51 10.6 ]\n",
            " [11.4  10.5 ]\n",
            " [16.12 15.6 ]\n",
            " [12.99 11.8 ]\n",
            " [13.84 13.2 ]\n",
            " [17.92 17.4 ]\n",
            " [ 9.56  1.6 ]\n",
            " [15.57 14.7 ]\n",
            " [17.92 17.  ]\n",
            " [22.43 26.2 ]\n",
            " [11.08 10.3 ]\n",
            " [16.   14.9 ]\n",
            " [13.98 12.9 ]\n",
            " [ 8.85  8.1 ]\n",
            " [16.47 15.2 ]\n",
            " [13.06 12.6 ]\n",
            " [22.42 22.6 ]\n",
            " [12.19 11.6 ]\n",
            " [10.    8.5 ]\n",
            " [13.58 12.5 ]\n",
            " [22.22 23.7 ]\n",
            " [16.16 16.1 ]\n",
            " [22.41 21.8 ]\n",
            " [ 8.72  5.6 ]\n",
            " [ 8.56  6.7 ]\n",
            " [10.4   9.7 ]\n",
            " [13.52 12.9 ]\n",
            " [14.65 13.6 ]\n",
            " [ 8.69  7.2 ]]\n",
            "0.883\n"
          ]
        }
      ]
    }
  ]
}