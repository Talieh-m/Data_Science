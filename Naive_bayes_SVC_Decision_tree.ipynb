{
  "nbformat": 4,
  "nbformat_minor": 0,
  "metadata": {
    "colab": {
      "name": "Naive_bayes-SVC-Decision_tree.ipynb",
      "provenance": [],
      "collapsed_sections": [],
      "authorship_tag": "ABX9TyMcde66sKf7nZoT5GuvK2Wn",
      "include_colab_link": true
    },
    "kernelspec": {
      "name": "python3",
      "display_name": "Python 3"
    },
    "language_info": {
      "name": "python"
    }
  },
  "cells": [
    {
      "cell_type": "markdown",
      "metadata": {
        "id": "view-in-github",
        "colab_type": "text"
      },
      "source": [
        "<a href=\"https://colab.research.google.com/github/Talieh-m/Data_Science/blob/main/Naive_bayes_SVC_Decision_tree.ipynb\" target=\"_parent\"><img src=\"https://colab.research.google.com/assets/colab-badge.svg\" alt=\"Open In Colab\"/></a>"
      ]
    },
    {
      "cell_type": "markdown",
      "metadata": {
        "id": "pJIclK70oijP"
      },
      "source": [
        "# **Importing Libraries**"
      ]
    },
    {
      "cell_type": "code",
      "metadata": {
        "id": "VsVMii4moi9y"
      },
      "source": [
        "#Data analysis\n",
        "import numpy as np\n",
        "import pandas as pd\n",
        "\n",
        "#data visualization\n",
        "import matplotlib.pyplot as plt\n",
        "import seaborn as sns\n",
        "\n",
        "#Preprocessing\n",
        "from sklearn.model_selection import train_test_split\n",
        "from sklearn.preprocessing import StandardScaler\n",
        "from sklearn.compose import ColumnTransformer\n",
        "from sklearn.preprocessing import OneHotEncoder\n",
        "\n",
        "#Machine learning\n",
        "from sklearn.linear_model import LogisticRegression\n",
        "from sklearn.neighbors import KNeighborsClassifier\n",
        "from sklearn.svm import SVC\n",
        "from sklearn.naive_bayes import GaussianNB\n",
        "from sklearn.tree import DecisionTreeClassifier\n",
        "from sklearn.ensemble import RandomForestClassifier\n",
        "\n",
        "#Evaluation\n",
        "from sklearn.metrics import confusion_matrix, accuracy_score, roc_curve, roc_auc_score"
      ],
      "execution_count": null,
      "outputs": []
    },
    {
      "cell_type": "markdown",
      "metadata": {
        "id": "X9BXznvIpU1q"
      },
      "source": [
        "# **Import Dataset**"
      ]
    },
    {
      "cell_type": "code",
      "metadata": {
        "colab": {
          "base_uri": "https://localhost:8080/",
          "height": 206
        },
        "id": "omn1D0eto0vc",
        "outputId": "69e233dc-6030-4626-c25f-6cf23670151c"
      },
      "source": [
        "df=pd.read_csv('new_train.csv')\n",
        "df.head()"
      ],
      "execution_count": null,
      "outputs": [
        {
          "output_type": "execute_result",
          "data": {
            "text/html": [
              "<div>\n",
              "<style scoped>\n",
              "    .dataframe tbody tr th:only-of-type {\n",
              "        vertical-align: middle;\n",
              "    }\n",
              "\n",
              "    .dataframe tbody tr th {\n",
              "        vertical-align: top;\n",
              "    }\n",
              "\n",
              "    .dataframe thead th {\n",
              "        text-align: right;\n",
              "    }\n",
              "</style>\n",
              "<table border=\"1\" class=\"dataframe\">\n",
              "  <thead>\n",
              "    <tr style=\"text-align: right;\">\n",
              "      <th></th>\n",
              "      <th>age</th>\n",
              "      <th>job</th>\n",
              "      <th>marital</th>\n",
              "      <th>education</th>\n",
              "      <th>default</th>\n",
              "      <th>housing</th>\n",
              "      <th>loan</th>\n",
              "      <th>contact</th>\n",
              "      <th>month</th>\n",
              "      <th>day_of_week</th>\n",
              "      <th>duration</th>\n",
              "      <th>campaign</th>\n",
              "      <th>pdays</th>\n",
              "      <th>previous</th>\n",
              "      <th>poutcome</th>\n",
              "      <th>y</th>\n",
              "    </tr>\n",
              "  </thead>\n",
              "  <tbody>\n",
              "    <tr>\n",
              "      <th>0</th>\n",
              "      <td>49</td>\n",
              "      <td>blue-collar</td>\n",
              "      <td>married</td>\n",
              "      <td>basic.9y</td>\n",
              "      <td>unknown</td>\n",
              "      <td>no</td>\n",
              "      <td>no</td>\n",
              "      <td>cellular</td>\n",
              "      <td>nov</td>\n",
              "      <td>wed</td>\n",
              "      <td>227</td>\n",
              "      <td>4</td>\n",
              "      <td>999</td>\n",
              "      <td>0</td>\n",
              "      <td>nonexistent</td>\n",
              "      <td>no</td>\n",
              "    </tr>\n",
              "    <tr>\n",
              "      <th>1</th>\n",
              "      <td>37</td>\n",
              "      <td>entrepreneur</td>\n",
              "      <td>married</td>\n",
              "      <td>university.degree</td>\n",
              "      <td>no</td>\n",
              "      <td>no</td>\n",
              "      <td>no</td>\n",
              "      <td>telephone</td>\n",
              "      <td>nov</td>\n",
              "      <td>wed</td>\n",
              "      <td>202</td>\n",
              "      <td>2</td>\n",
              "      <td>999</td>\n",
              "      <td>1</td>\n",
              "      <td>failure</td>\n",
              "      <td>no</td>\n",
              "    </tr>\n",
              "    <tr>\n",
              "      <th>2</th>\n",
              "      <td>78</td>\n",
              "      <td>retired</td>\n",
              "      <td>married</td>\n",
              "      <td>basic.4y</td>\n",
              "      <td>no</td>\n",
              "      <td>no</td>\n",
              "      <td>no</td>\n",
              "      <td>cellular</td>\n",
              "      <td>jul</td>\n",
              "      <td>mon</td>\n",
              "      <td>1148</td>\n",
              "      <td>1</td>\n",
              "      <td>999</td>\n",
              "      <td>0</td>\n",
              "      <td>nonexistent</td>\n",
              "      <td>yes</td>\n",
              "    </tr>\n",
              "    <tr>\n",
              "      <th>3</th>\n",
              "      <td>36</td>\n",
              "      <td>admin.</td>\n",
              "      <td>married</td>\n",
              "      <td>university.degree</td>\n",
              "      <td>no</td>\n",
              "      <td>yes</td>\n",
              "      <td>no</td>\n",
              "      <td>telephone</td>\n",
              "      <td>may</td>\n",
              "      <td>mon</td>\n",
              "      <td>120</td>\n",
              "      <td>2</td>\n",
              "      <td>999</td>\n",
              "      <td>0</td>\n",
              "      <td>nonexistent</td>\n",
              "      <td>no</td>\n",
              "    </tr>\n",
              "    <tr>\n",
              "      <th>4</th>\n",
              "      <td>59</td>\n",
              "      <td>retired</td>\n",
              "      <td>divorced</td>\n",
              "      <td>university.degree</td>\n",
              "      <td>no</td>\n",
              "      <td>no</td>\n",
              "      <td>no</td>\n",
              "      <td>cellular</td>\n",
              "      <td>jun</td>\n",
              "      <td>tue</td>\n",
              "      <td>368</td>\n",
              "      <td>2</td>\n",
              "      <td>999</td>\n",
              "      <td>0</td>\n",
              "      <td>nonexistent</td>\n",
              "      <td>no</td>\n",
              "    </tr>\n",
              "  </tbody>\n",
              "</table>\n",
              "</div>"
            ],
            "text/plain": [
              "   age           job   marital  ... previous     poutcome    y\n",
              "0   49   blue-collar   married  ...        0  nonexistent   no\n",
              "1   37  entrepreneur   married  ...        1      failure   no\n",
              "2   78       retired   married  ...        0  nonexistent  yes\n",
              "3   36        admin.   married  ...        0  nonexistent   no\n",
              "4   59       retired  divorced  ...        0  nonexistent   no\n",
              "\n",
              "[5 rows x 16 columns]"
            ]
          },
          "metadata": {},
          "execution_count": 5
        }
      ]
    },
    {
      "cell_type": "code",
      "metadata": {
        "colab": {
          "base_uri": "https://localhost:8080/"
        },
        "id": "2c4jnoxI4OGD",
        "outputId": "55ed821f-d15e-46ed-d09d-78df95febd7b"
      },
      "source": [
        "df.shape"
      ],
      "execution_count": null,
      "outputs": [
        {
          "output_type": "execute_result",
          "data": {
            "text/plain": [
              "(32950, 16)"
            ]
          },
          "metadata": {},
          "execution_count": 6
        }
      ]
    },
    {
      "cell_type": "markdown",
      "metadata": {
        "id": "1J-RTbQrBMfF"
      },
      "source": [
        "# **Data Preparation**"
      ]
    },
    {
      "cell_type": "code",
      "metadata": {
        "colab": {
          "base_uri": "https://localhost:8080/"
        },
        "id": "dSn1vfLGBNJg",
        "outputId": "353b6963-6d20-49ee-e7c3-72e521b63c6a"
      },
      "source": [
        "df.dtypes"
      ],
      "execution_count": null,
      "outputs": [
        {
          "output_type": "execute_result",
          "data": {
            "text/plain": [
              "age             int64\n",
              "job            object\n",
              "marital        object\n",
              "education      object\n",
              "default        object\n",
              "housing        object\n",
              "loan           object\n",
              "contact        object\n",
              "month          object\n",
              "day_of_week    object\n",
              "duration        int64\n",
              "campaign        int64\n",
              "pdays           int64\n",
              "previous        int64\n",
              "poutcome       object\n",
              "y              object\n",
              "dtype: object"
            ]
          },
          "metadata": {},
          "execution_count": 7
        }
      ]
    },
    {
      "cell_type": "code",
      "metadata": {
        "colab": {
          "base_uri": "https://localhost:8080/"
        },
        "id": "n3A8tMCqxNKr",
        "outputId": "08f043ce-89a4-48f0-ad7b-02197a5e2c34"
      },
      "source": [
        "for i in ('job','marital','education', 'default','housing','loan','contact','month','day_of_week','previous','poutcome','y'):\n",
        "  print(f'~*{i} cathegories:')\n",
        "  print(df[i].unique())"
      ],
      "execution_count": null,
      "outputs": [
        {
          "output_type": "stream",
          "name": "stdout",
          "text": [
            "~*job cathegories:\n",
            "['blue-collar' 'entrepreneur' 'retired' 'admin.' 'student' 'services'\n",
            " 'technician' 'self-employed' 'management' 'unemployed' 'unknown'\n",
            " 'housemaid']\n",
            "~*marital cathegories:\n",
            "['married' 'divorced' 'single' 'unknown']\n",
            "~*education cathegories:\n",
            "['basic.9y' 'university.degree' 'basic.4y' 'high.school'\n",
            " 'professional.course' 'unknown' 'basic.6y' 'illiterate']\n",
            "~*default cathegories:\n",
            "['unknown' 'no' 'yes']\n",
            "~*housing cathegories:\n",
            "['no' 'yes' 'unknown']\n",
            "~*loan cathegories:\n",
            "['no' 'yes' 'unknown']\n",
            "~*contact cathegories:\n",
            "['cellular' 'telephone']\n",
            "~*month cathegories:\n",
            "['nov' 'jul' 'may' 'jun' 'aug' 'mar' 'oct' 'apr' 'sep' 'dec']\n",
            "~*day_of_week cathegories:\n",
            "['wed' 'mon' 'tue' 'fri' 'thu']\n",
            "~*previous cathegories:\n",
            "[0 1 3 4 2 6 5 7]\n",
            "~*poutcome cathegories:\n",
            "['nonexistent' 'failure' 'success']\n",
            "~*y cathegories:\n",
            "['no' 'yes']\n"
          ]
        }
      ]
    },
    {
      "cell_type": "code",
      "metadata": {
        "colab": {
          "base_uri": "https://localhost:8080/"
        },
        "id": "SI3iiYrH2rYm",
        "outputId": "565b6b57-23c1-49b4-b39d-3195fdd1f884"
      },
      "source": [
        "# finding the number of unknowns in dataset\n",
        "for i in ('job','marital','education', 'default','housing','loan'):\n",
        "  print(df[i].value_counts())"
      ],
      "execution_count": null,
      "outputs": [
        {
          "output_type": "stream",
          "name": "stdout",
          "text": [
            "admin.           8314\n",
            "blue-collar      7441\n",
            "technician       5400\n",
            "services         3196\n",
            "management       2345\n",
            "retired          1366\n",
            "entrepreneur     1160\n",
            "self-employed    1099\n",
            "housemaid         855\n",
            "unemployed        798\n",
            "student           711\n",
            "unknown           265\n",
            "Name: job, dtype: int64\n",
            "married     19953\n",
            "single       9257\n",
            "divorced     3675\n",
            "unknown        65\n",
            "Name: marital, dtype: int64\n",
            "university.degree      9736\n",
            "high.school            7596\n",
            "basic.9y               4826\n",
            "professional.course    4192\n",
            "basic.4y               3322\n",
            "basic.6y               1865\n",
            "unknown                1397\n",
            "illiterate               16\n",
            "Name: education, dtype: int64\n",
            "no         26007\n",
            "unknown     6940\n",
            "yes            3\n",
            "Name: default, dtype: int64\n",
            "yes        17254\n",
            "no         14900\n",
            "unknown      796\n",
            "Name: housing, dtype: int64\n",
            "no         27131\n",
            "yes         5023\n",
            "unknown      796\n",
            "Name: loan, dtype: int64\n"
          ]
        }
      ]
    },
    {
      "cell_type": "code",
      "metadata": {
        "id": "6qF5kUDY5Iwh"
      },
      "source": [
        "df=df.applymap(lambda x: np.nan if x == 'unknown' else x)"
      ],
      "execution_count": null,
      "outputs": []
    },
    {
      "cell_type": "code",
      "metadata": {
        "id": "1O4Zfub_-v-0"
      },
      "source": [
        "df.dropna(inplace=True)"
      ],
      "execution_count": null,
      "outputs": []
    },
    {
      "cell_type": "code",
      "metadata": {
        "colab": {
          "base_uri": "https://localhost:8080/",
          "height": 477
        },
        "id": "Bp2T7OeKsj4J",
        "outputId": "cf59c8aa-7958-436d-f6d5-ff96c91834b1"
      },
      "source": [
        "figur=plt.figure(figsize = (5,5))\n",
        "axis=figur.gca()\n",
        "cont_cols=['age','duration','pdays','campaign']\n",
        "df.hist(cont_cols,ax=axis)"
      ],
      "execution_count": null,
      "outputs": [
        {
          "output_type": "stream",
          "name": "stderr",
          "text": [
            "/usr/local/lib/python3.7/dist-packages/ipykernel_launcher.py:4: UserWarning: To output multiple subplots, the figure containing the passed axes is being cleared\n",
            "  after removing the cwd from sys.path.\n"
          ]
        },
        {
          "output_type": "execute_result",
          "data": {
            "text/plain": [
              "array([[<matplotlib.axes._subplots.AxesSubplot object at 0x7f0f7a4416d0>,\n",
              "        <matplotlib.axes._subplots.AxesSubplot object at 0x7f0f7a36d810>],\n",
              "       [<matplotlib.axes._subplots.AxesSubplot object at 0x7f0f7a321d90>,\n",
              "        <matplotlib.axes._subplots.AxesSubplot object at 0x7f0f7a2e4350>]],\n",
              "      dtype=object)"
            ]
          },
          "metadata": {},
          "execution_count": 21
        },
        {
          "output_type": "display_data",
          "data": {
            "image/png": "[encoded data removed]",
            "text/plain": [
              "<Figure size 360x360 with 4 Axes>"
            ]
          },
          "metadata": {
            "needs_background": "light"
          }
        }
      ]
    },
    {
      "cell_type": "markdown",
      "metadata": {
        "id": "vYyn4QidIf1F"
      },
      "source": [
        "# **Check for Balancing**"
      ]
    },
    {
      "cell_type": "code",
      "metadata": {
        "colab": {
          "base_uri": "https://localhost:8080/",
          "height": 297
        },
        "id": "WbO9Az00Ijx5",
        "outputId": "3cb977ef-ae12-459e-cd4d-66df030bffd6"
      },
      "source": [
        "sns.countplot(x='y',data=df, palette= [ \"#fee0d2\",\"#edf8b1\"])"
      ],
      "execution_count": null,
      "outputs": [
        {
          "output_type": "execute_result",
          "data": {
            "text/plain": [
              "<matplotlib.axes._subplots.AxesSubplot at 0x7f0f7a182110>"
            ]
          },
          "metadata": {},
          "execution_count": 24
        },
        {
          "output_type": "display_data",
          "data": {
            "image/png": "[encoded data removed]",
            "text/plain": [
              "<Figure size 432x288 with 1 Axes>"
            ]
          },
          "metadata": {
            "needs_background": "light"
          }
        }
      ]
    },
    {
      "cell_type": "markdown",
      "metadata": {
        "id": "J0dQEOcVI-_w"
      },
      "source": [
        "# **Correlation**"
      ]
    },
    {
      "cell_type": "code",
      "metadata": {
        "colab": {
          "base_uri": "https://localhost:8080/",
          "height": 613
        },
        "id": "ef3bWAw0JDTD",
        "outputId": "964d1671-0f4a-4578-d79e-269eb445eceb"
      },
      "source": [
        "plt.figure(figsize=(20,10))\n",
        "cont_cols=['age','duration','pdays','campaign']\n",
        "df_co = df[cont_cols].corr()\n",
        "sns.heatmap(df_co,cbar = True,  square = True, annot = True, fmt= '.1f',xticklabels= True, yticklabels= True,cmap='YlGnBu_r', linewidths=.5)"
      ],
      "execution_count": null,
      "outputs": [
        {
          "output_type": "execute_result",
          "data": {
            "text/plain": [
              "<matplotlib.axes._subplots.AxesSubplot at 0x7f0f79ec3bd0>"
            ]
          },
          "metadata": {},
          "execution_count": 32
        },
        {
          "output_type": "display_data",
          "data": {
            "image/png": "[encoded data removed]",
            "text/plain": [
              "<Figure size 1440x720 with 2 Axes>"
            ]
          },
          "metadata": {
            "needs_background": "light"
          }
        }
      ]
    },
    {
      "cell_type": "markdown",
      "metadata": {
        "id": "d02T8KOkZUls"
      },
      "source": [
        "# **Scaling the data**"
      ]
    },
    {
      "cell_type": "code",
      "metadata": {
        "id": "-m0ahoYxZY3i"
      },
      "source": [
        "sc = StandardScaler()\n",
        "x=np.array(df['age'])\n",
        "x=np.reshape(x,(1,len(x)))\n",
        "cont_cols=['age','duration','pdays','campaign']\n",
        "for i in cont_cols:\n",
        "  x=np.array(df[i])\n",
        "  x=np.reshape(x,(len(x),1))\n",
        "  df[i]=sc.fit_transform(x)"
      ],
      "execution_count": null,
      "outputs": []
    },
    {
      "cell_type": "markdown",
      "metadata": {
        "id": "mmvLf--nMshw"
      },
      "source": [
        "# **Encoding categorical data**"
      ]
    },
    {
      "cell_type": "code",
      "metadata": {
        "id": "3bXfnNyeM6bx"
      },
      "source": [
        "# transforming booleans\n",
        "from sklearn.preprocessing import LabelEncoder\n",
        "le=LabelEncoder()\n",
        "booleans=['default','housing','loan','contact','y']\n",
        "for i in booleans:\n",
        "  df[i]=le.fit_transform(df[i])\n",
        "\n",
        "#defining Dependent & independent variables\n",
        "x= df.iloc[:,:-1].values\n",
        "y=df.iloc[:,-1].values\n",
        "\n",
        "#transforming categorical\n",
        "ct=ColumnTransformer(transformers=[(\"encoder\", OneHotEncoder(), [1,2,3,8,9,14])], remainder =\"passthrough\")\n",
        "x=np.array (ct.fit_transform(x))"
      ],
      "execution_count": null,
      "outputs": []
    },
    {
      "cell_type": "markdown",
      "metadata": {
        "id": "5nGIGq3uL4fa"
      },
      "source": [
        "# **Splitting the Dataset into train set & test set**"
      ]
    },
    {
      "cell_type": "code",
      "metadata": {
        "id": "dfk9gvAPMIHl"
      },
      "source": [
        "x_train,x_test, y_train, y_test= train_test_split(x,y, random_state=0, test_size=.25)"
      ],
      "execution_count": null,
      "outputs": []
    },
    {
      "cell_type": "markdown",
      "metadata": {
        "id": "2jynSB9iMYL2"
      },
      "source": [
        "# **Balancing the Dataset**"
      ]
    },
    {
      "cell_type": "code",
      "metadata": {
        "colab": {
          "base_uri": "https://localhost:8080/"
        },
        "id": "3wt_LEEcMcQY",
        "outputId": "5269f7e4-5d4c-4739-da5a-86be808bc822"
      },
      "source": [
        "import imblearn\n",
        "from imblearn.over_sampling import ADASYN\n",
        "adasyn = ADASYN()\n",
        "xo_train, yo_train = adasyn.fit_resample(x_train, y_train)"
      ],
      "execution_count": null,
      "outputs": [
        {
          "output_type": "stream",
          "name": "stderr",
          "text": [
            "/usr/local/lib/python3.7/dist-packages/sklearn/utils/deprecation.py:87: FutureWarning: Function safe_indexing is deprecated; safe_indexing is deprecated in version 0.22 and will be removed in version 0.24.\n",
            "  warnings.warn(msg, category=FutureWarning)\n"
          ]
        }
      ]
    },
    {
      "cell_type": "markdown",
      "metadata": {
        "id": "DfV1-VKigYLt"
      },
      "source": [
        "# **Training the models**"
      ]
    },
    {
      "cell_type": "code",
      "metadata": {
        "colab": {
          "base_uri": "https://localhost:8080/",
          "height": 313
        },
        "id": "8NnfKYTahKPV",
        "outputId": "862d0983-e1af-4d96-8b38-fa198d0eae14"
      },
      "source": [
        "#naive bayes\n",
        "classifier = GaussianNB()\n",
        "classifier.fit(x_train, y_train)\n",
        "y_pred= classifier.predict(x_test)\n",
        "cm = confusion_matrix(y_test, y_pred)\n",
        "sns.heatmap(cm,annot=True, cmap=\"copper_r\", fmt=\"d\")\n",
        "plt.ylabel('True label')\n",
        "plt.xlabel('Predicted label')\n",
        "plt.title(\"Confusion Matrix\")\n",
        "Accuracy_Score=np.round(accuracy_score(y_test, y_pred), decimals=3)\n",
        "print(\"accuracy_score={a}\".format(a=Accuracy_Score))"
      ],
      "execution_count": null,
      "outputs": [
        {
          "output_type": "stream",
          "name": "stdout",
          "text": [
            "accuracy_score=0.818\n"
          ]
        },
        {
          "output_type": "display_data",
          "data": {
            "image/png": "[encoded data removed]",
            "text/plain": [
              "<Figure size 432x288 with 2 Axes>"
            ]
          },
          "metadata": {
            "needs_background": "light"
          }
        }
      ]
    },
    {
      "cell_type": "code",
      "metadata": {
        "colab": {
          "base_uri": "https://localhost:8080/",
          "height": 295
        },
        "id": "7dierDWqh8VK",
        "outputId": "da3cd185-764f-41ae-d3d1-9d00fa2d92e8"
      },
      "source": [
        "#Roc Curve\n",
        "naive_roc_auc = roc_auc_score(y_test, y_pred)\n",
        "roc_auc = roc_auc_score(y_test, y_pred)\n",
        "fpr, tpr, thresholds = roc_curve(y_test, classifier.predict_proba(x_test)[:,1])\n",
        "plt.figure()\n",
        "plt.plot(fpr, tpr, label='naive bayes (area = %0.2f)' % naive_roc_auc)\n",
        "plt.plot([0, 1], [0, 1],'r--')\n",
        "plt.xlim([0.0, 1.0])\n",
        "plt.ylim([0.0, 1.05])\n",
        "plt.xlabel('False Positive Rate')\n",
        "plt.ylabel('True Positive Rate')\n",
        "plt.title('Roc Curve for Naive Bayes Classifier')\n",
        "plt.legend(loc=\"lower right\")\n",
        "plt.show()"
      ],
      "execution_count": null,
      "outputs": [
        {
          "output_type": "display_data",
          "data": {
            "image/png": "[encoded data removed]",
            "text/plain": [
              "<Figure size 432x288 with 1 Axes>"
            ]
          },
          "metadata": {
            "needs_background": "light"
          }
        }
      ]
    },
    {
      "cell_type": "code",
      "metadata": {
        "colab": {
          "base_uri": "https://localhost:8080/",
          "height": 313
        },
        "id": "n0kEDN-gmPXL",
        "outputId": "cd5f0551-96a6-4d34-9031-161c3c4f1ac8"
      },
      "source": [
        "#SVM\n",
        "classifier_s= SVC(kernel = 'linear', random_state = 0, probability=True)\n",
        "classifier_s.fit(x_train, y_train)\n",
        "y_pred= classifier_s.predict(x_test)\n",
        "cm2 = confusion_matrix(y_test, y_pred)\n",
        "sns.heatmap(cm2,annot=True, cmap=\"copper_r\", fmt=\"d\")\n",
        "plt.ylabel('True label')\n",
        "plt.xlabel('Predicted label')\n",
        "plt.title(\"Confusion Matrix\")\n",
        "Accuracy_Score2=np.round(accuracy_score(y_test, y_pred), decimals=3)\n",
        "print(\"accuracy_score2={a}\".format(a=Accuracy_Score2))"
      ],
      "execution_count": null,
      "outputs": [
        {
          "output_type": "stream",
          "name": "stdout",
          "text": [
            "accuracy_score2=0.889\n"
          ]
        },
        {
          "output_type": "display_data",
          "data": {
            "image/png": "[encoded data removed]",
            "text/plain": [
              "<Figure size 432x288 with 2 Axes>"
            ]
          },
          "metadata": {
            "needs_background": "light"
          }
        }
      ]
    },
    {
      "cell_type": "code",
      "metadata": {
        "colab": {
          "base_uri": "https://localhost:8080/",
          "height": 295
        },
        "id": "1aFeIzzanJUQ",
        "outputId": "c32f18c6-77ea-4eb7-bb9a-974d3ddc792d"
      },
      "source": [
        "#Roc Curve\n",
        "svm_roc_auc = roc_auc_score(y_test, y_pred)\n",
        "roc_auc_svm = roc_auc_score(y_test, y_pred)\n",
        "fpr, tpr, thresholds = roc_curve(y_test, classifier_s.predict_proba(x_test)[:,1])\n",
        "plt.figure()\n",
        "plt.plot(fpr, tpr, label='SVM (area = %0.2f)' % svm_roc_auc)\n",
        "plt.plot([0, 1], [0, 1],'r--')\n",
        "plt.xlim([0.0, 1.0])\n",
        "plt.ylim([0.0, 1.05])\n",
        "plt.xlabel('False Positive Rate')\n",
        "plt.ylabel('True Positive Rate')\n",
        "plt.title('Roc Curve for SVM Classifier')\n",
        "plt.legend(loc=\"lower right\")\n",
        "plt.show()"
      ],
      "execution_count": null,
      "outputs": [
        {
          "output_type": "display_data",
          "data": {
            "image/png": "[encoded data removed]",
            "text/plain": [
              "<Figure size 432x288 with 1 Axes>"
            ]
          },
          "metadata": {
            "needs_background": "light"
          }
        }
      ]
    },
    {
      "cell_type": "code",
      "metadata": {
        "colab": {
          "base_uri": "https://localhost:8080/",
          "height": 313
        },
        "id": "1IgkZVElobFj",
        "outputId": "c181dd43-fbdf-4466-ddfe-36a02d82e021"
      },
      "source": [
        "#Decision Trees\n",
        "classifier_d = DecisionTreeClassifier(criterion = 'entropy', random_state = 0)\n",
        "classifier_d.fit(x_train, y_train)\n",
        "y_pred_d= classifier_d.predict(x_test)\n",
        "cm3 = confusion_matrix(y_test, y_pred_d)\n",
        "sns.heatmap(cm3,annot=True, cmap=\"copper_r\", fmt=\"d\")\n",
        "plt.ylabel('True label')\n",
        "plt.xlabel('Predicted label')\n",
        "plt.title(\"Confusion Matrix\")\n",
        "Accuracy_Score3=np.round(accuracy_score(y_test, y_pred_d), decimals=3)\n",
        "print(\"accuracy_score3={a}\".format(a=Accuracy_Score3))"
      ],
      "execution_count": null,
      "outputs": [
        {
          "output_type": "stream",
          "name": "stdout",
          "text": [
            "accuracy_score3=0.868\n"
          ]
        },
        {
          "output_type": "display_data",
          "data": {
            "image/png": "[encoded data removed]",
            "text/plain": [
              "<Figure size 432x288 with 2 Axes>"
            ]
          },
          "metadata": {
            "needs_background": "light"
          }
        }
      ]
    },
    {
      "cell_type": "code",
      "metadata": {
        "colab": {
          "base_uri": "https://localhost:8080/",
          "height": 295
        },
        "id": "XzdPB2OQrOPQ",
        "outputId": "d32a212b-3531-499a-9b5d-5940c9fe8088"
      },
      "source": [
        "#Roc Curve\n",
        "dct_roc_auc = roc_auc_score(y_test, y_pred_d)\n",
        "roc_auc_dct = roc_auc_score(y_test, y_pred_d)\n",
        "fpr, tpr, thresholds = roc_curve(y_test, classifier_d.predict_proba(x_test)[:,1])\n",
        "plt.figure()\n",
        "plt.plot(fpr, tpr, label='dct (area = %0.2f)' % dct_roc_auc)\n",
        "plt.plot([0, 1], [0, 1],'r--')\n",
        "plt.xlim([0.0, 1.0])\n",
        "plt.ylim([0.0, 1.05])\n",
        "plt.xlabel('False Positive Rate')\n",
        "plt.ylabel('True Positive Rate')\n",
        "plt.title('Roc Curve for dct Classifier')\n",
        "plt.legend(loc=\"lower right\")\n",
        "plt.show()"
      ],
      "execution_count": null,
      "outputs": [
        {
          "output_type": "display_data",
          "data": {
            "image/png": "[encoded data removed]",
            "text/plain": [
              "<Figure size 432x288 with 1 Axes>"
            ]
          },
          "metadata": {
            "needs_background": "light"
          }
        }
      ]
    }
  ]
}